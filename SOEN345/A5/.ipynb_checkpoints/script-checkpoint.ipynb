{
 "cells": [
  {
   "cell_type": "code",
   "execution_count": 2,
   "id": "936fcbbb",
   "metadata": {},
   "outputs": [],
   "source": [
    "import pandas as pd"
   ]
  },
  {
   "cell_type": "code",
   "execution_count": 3,
   "id": "45272b46",
   "metadata": {},
   "outputs": [],
   "source": [
    "df_concordia = pd.read_csv('40157164_concordia.csv')\n",
    "df_amazon = pd.read_csv('40157164_amazon.csv')"
   ]
  },
  {
   "cell_type": "code",
   "execution_count": 4,
   "id": "1f7a96cb",
   "metadata": {},
   "outputs": [
    {
     "name": "stdout",
     "output_type": "stream",
     "text": [
      "Concordia DF: 100\n",
      "Amazon DF: 100\n"
     ]
    }
   ],
   "source": [
    "# We verify that each of our datasets has indeed 100 entries\n",
    "\n",
    "print(f'Concordia DF: {df_concordia.shape[0]}')\n",
    "print(f'Amazon DF: {df_amazon.shape[0]}')"
   ]
  },
  {
   "cell_type": "code",
   "execution_count": 5,
   "id": "61df5418",
   "metadata": {},
   "outputs": [
    {
     "name": "stdout",
     "output_type": "stream",
     "text": [
      "- List of 10 lower latencies for Concordia:\n",
      "53    81\n",
      "15    85\n",
      "54    87\n",
      "61    90\n",
      "93    91\n",
      "94    92\n",
      "55    92\n",
      "96    93\n",
      "6     93\n",
      "52    93\n",
      "Name: Latency, dtype: int64\n",
      "\n",
      "- List of 10 lower latencies for Amazon:\n",
      "0     258\n",
      "1     281\n",
      "9     309\n",
      "25    350\n",
      "52    362\n",
      "8     382\n",
      "71    389\n",
      "11    394\n",
      "85    411\n",
      "38    420\n",
      "Name: Latency, dtype: int64\n"
     ]
    }
   ],
   "source": [
    "# Now we search for the 10 requests with lower latency for each website.\n",
    "\n",
    "low_latency_concordia = df_concordia['Latency']\n",
    "low_latency_amazon = df_amazon['Latency']\n",
    "\n",
    "print('- List of 10 lower latencies for Concordia:')\n",
    "print(low_latency_concordia.sort_values()[:10])\n",
    "print('\\n- List of 10 lower latencies for Amazon:')\n",
    "print(low_latency_amazon.sort_values()[:10])\n"
   ]
  },
  {
   "cell_type": "code",
   "execution_count": 6,
   "id": "32c01eea",
   "metadata": {},
   "outputs": [
    {
     "name": "stdout",
     "output_type": "stream",
     "text": [
      "The average latency for requests to concordia.ca: 110.71\n",
      "The average latency for requests to amazon.ca: 651.37\n"
     ]
    }
   ],
   "source": [
    "# We now compute the average latency per request for each website:\n",
    "\n",
    "sum_latency_concordia = low_latency_concordia.sum()\n",
    "sum_latency_amazon = low_latency_amazon.sum()\n",
    "\n",
    "print(f'The average latency for requests to concordia.ca: {sum_latency_concordia/100}')\n",
    "print(f'The average latency for requests to amazon.ca: {sum_latency_amazon/100}')"
   ]
  },
  {
   "cell_type": "markdown",
   "id": "6f8befdb",
   "metadata": {},
   "source": [
    "We see that there is a significant difference in average latency. \n",
    "We want to see if there is a major difference between average latency of successful requests vs all requests\n",
    "for amazon.ca"
   ]
  },
  {
   "cell_type": "code",
   "execution_count": 7,
   "id": "4d1ad642",
   "metadata": {},
   "outputs": [
    {
     "name": "stdout",
     "output_type": "stream",
     "text": [
      "Number of successful requests to concordia.ca: 100\n",
      "Number of successful requests to amazon.ca: 62\n"
     ]
    }
   ],
   "source": [
    "# Next, we find the number of successful request for each website:\n",
    "\n",
    "num_success_concordia = df_concordia['success'].astype(int).sum()\n",
    "num_success_amazon = df_amazon['success'].astype(int).sum()\n",
    "\n",
    "print(f'Number of successful requests to concordia.ca: {num_success_concordia}')\n",
    "print(f'Number of successful requests to amazon.ca: {num_success_amazon}')"
   ]
  },
  {
   "cell_type": "markdown",
   "id": "8d9efcec",
   "metadata": {},
   "source": [
    "We saw that there is a significant difference in average latency. \n",
    "We want to see if there is a major difference between average latency of successful requests vs all requests\n",
    "for amazon.ca"
   ]
  },
  {
   "cell_type": "code",
   "execution_count": null,
   "id": "d81f5b6d",
   "metadata": {},
   "outputs": [],
   "source": []
  }
 ],
 "metadata": {
  "kernelspec": {
   "display_name": "Python 3 (ipykernel)",
   "language": "python",
   "name": "python3"
  },
  "language_info": {
   "codemirror_mode": {
    "name": "ipython",
    "version": 3
   },
   "file_extension": ".py",
   "mimetype": "text/x-python",
   "name": "python",
   "nbconvert_exporter": "python",
   "pygments_lexer": "ipython3",
   "version": "3.9.7"
  }
 },
 "nbformat": 4,
 "nbformat_minor": 5
}
