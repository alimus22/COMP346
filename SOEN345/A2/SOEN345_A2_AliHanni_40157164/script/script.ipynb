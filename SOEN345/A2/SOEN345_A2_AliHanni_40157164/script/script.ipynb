{
 "cells": [
  {
   "cell_type": "code",
   "execution_count": 77,
   "id": "37e4f13a",
   "metadata": {},
   "outputs": [],
   "source": [
    "data = dict()\n",
    "file = open('mutations.csv', 'r')\n",
    "lines = file.readlines()"
   ]
  },
  {
   "cell_type": "code",
   "execution_count": 78,
   "id": "8d5ca33d",
   "metadata": {},
   "outputs": [],
   "source": [
    "output_data = []\n",
    "for line in lines:\n",
    "    package_name = line.split(',')[1].split('.')[4]\n",
    "    if package_name == 'output':\n",
    "        output_data.append(line)"
   ]
  },
  {
   "cell_type": "code",
   "execution_count": 79,
   "id": "5b7db292",
   "metadata": {},
   "outputs": [],
   "source": [
    "countKilled = 0\n",
    "countSurvived = 0\n",
    "for line in output_data:\n",
    "    info = line.split(',')\n",
    "    mutant = info[2].split('.')[6]\n",
    "    if mutant not in data:\n",
    "        data[mutant] = {'SURVIVED' : 0, 'KILLED' : 0, 'RATIO' : 0}\n",
    "    status = info[5]\n",
    "    if status == 'KILLED':\n",
    "        data[mutant]['KILLED'] += 1\n",
    "        \n",
    "    else:\n",
    "        data[mutant]['SURVIVED'] += 1\n",
    "    "
   ]
  },
  {
   "cell_type": "code",
   "execution_count": 71,
   "id": "951fd849",
   "metadata": {},
   "outputs": [],
   "source": [
    "for key in data:\n",
    "    total = data[key]['SURVIVED'] + data[key]['KILLED']\n",
    "    ratio = data[key]['SURVIVED'] / total\n",
    "    data[key]['RATIO'] = ratio"
   ]
  },
  {
   "cell_type": "code",
   "execution_count": 75,
   "id": "b69d61cf",
   "metadata": {},
   "outputs": [],
   "source": [
    "with open('report.txt', 'w') as report:\n",
    "    for key, value in data.items():\n",
    "        report.write('%s: %s\\n' % (key, value))"
   ]
  },
  {
   "cell_type": "code",
   "execution_count": 76,
   "id": "55d7cf95",
   "metadata": {},
   "outputs": [
    {
     "name": "stdout",
     "output_type": "stream",
     "text": [
      "676\n",
      "272\n"
     ]
    }
   ],
   "source": [
    "survived = 0\n",
    "killed = 0\n",
    "for key in data:\n",
    "    survived += data[key]['SURVIVED']\n",
    "    killed += data[key]['KILLED']"
   ]
  },
  {
   "cell_type": "code",
   "execution_count": null,
   "id": "58b9885e",
   "metadata": {},
   "outputs": [],
   "source": []
  }
 ],
 "metadata": {
  "kernelspec": {
   "display_name": "Python 3 (ipykernel)",
   "language": "python",
   "name": "python3"
  },
  "language_info": {
   "codemirror_mode": {
    "name": "ipython",
    "version": 3
   },
   "file_extension": ".py",
   "mimetype": "text/x-python",
   "name": "python",
   "nbconvert_exporter": "python",
   "pygments_lexer": "ipython3",
   "version": "3.9.7"
  }
 },
 "nbformat": 4,
 "nbformat_minor": 5
}
